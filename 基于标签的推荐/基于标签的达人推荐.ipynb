{
 "cells": [
  {
   "cell_type": "code",
   "execution_count": 1,
   "metadata": {},
   "outputs": [],
   "source": [
    "#获取用户对达人的评分\n",
    "def getUserRate(self):\n",
    "    userRateDict = dict()\n",
    "    fr = open(self.user_rate_file, \"r\", encoding='utf-8')\n",
    "    for line in fr.readlines():\n",
    "        if not line.startswith('userID'):\n",
    "            userID, artistID, weight = line.split('\\t')\n",
    "            userRateDict.setdefault(int(userID), {})\n",
    "            #对听歌次数缩放，避免计算结果太大\n",
    "            userRateDict[int(userID)][int(artistID)] = float(weight) / 10000           \n",
    "    return userRateDict\n"
   ]
  },
  {
   "cell_type": "code",
   "execution_count": 4,
   "metadata": {},
   "outputs": [],
   "source": [
    "#获得每个用户打标对标签和每个标签被打标的次数\n",
    "def getUserTagNum(self):\n",
    "    userTagDict = dict()\n",
    "    tagUserDict = dict()\n",
    "    for line in open(self.user_tag_file, \"r\", encoding='utf-8'):\n",
    "        if not line.startswith('userID'):\n",
    "            userID, artistID, weight = line.strip().split('\\t')[:3]\n",
    "            #每个标签被打标的次数\n",
    "            if int(tagID) in tagUserDict.keys():\n",
    "                tagUserDict[int(tagID)] += 1\n",
    "            else:\n",
    "                tagUserDict[int(tagID)] = 1\n",
    "            #每个用户对每个标签的打标次数\n",
    "            userTagDict.setdefault(int(userID), {})\n",
    "            if int(tagID) in userTagDict[int(userID)].keys():\n",
    "                userTagDict[int(userID)][int(tagID)] += 1\n",
    "            else:\n",
    "                userTagDict[int(userID)][int(tagID)] = 1\n",
    "    return userTagDict, tagUserDict\n",
    "                "
   ]
  },
  {
   "cell_type": "code",
   "execution_count": 1,
   "metadata": {},
   "outputs": [],
   "source": [
    "# 获取艺术家对应的标签基因,这里的相关度全部为1\n",
    "def getArtistsTags(self):\n",
    "    artistsTagsDict = dict()\n",
    "    for line in open(self.user_tag_file, 'r', encoding='utf-8'):\n",
    "        if not line.startswith('userID'):\n",
    "            artistID, tagID = line.strip('\\t')[1:3]\n",
    "            artistsTagsDict.setdefault(int(artistID), {})\n",
    "            # 如果艺术家有对应的标签则记录，相关度为1，否则不为1\n",
    "            artistsTagsDict[int(artistID)][int(tagID)] = 1\n",
    "    return artistsTagsDict\n",
    "            "
   ]
  },
  {
   "cell_type": "code",
   "execution_count": 2,
   "metadata": {},
   "outputs": [],
   "source": [
    "# 获取用户对标签的最终兴趣度\n",
    "def getUserTagPre(self):\n",
    "    userTagPre = dict()\n",
    "    userTagCount = dict()\n",
    "    # Num 为用户打标总条数\n",
    "    Num = len(open(self.user_tag_file, \"r\", encoding=\"utf-8\").readlines())\n",
    "    for line in open(self.user_tag_file, \"r\", encoding=\"utf-8\").readlines():\n",
    "        if not line.startswith('userID'):\n",
    "            userID, artistID, tagID = line.strip('\\t')[:3]\n",
    "            userTagPre.setdefault(int(userID), {})\n",
    "            userTagCount.setdefault(int(userID), {})\n",
    "            #rate_ui为用户对艺术家对评分\n",
    "            rate_ui = (\n",
    "                self.userRateDict[int(userID)][int(artistID)]\n",
    "                if int(artistID) in self.userRateDict[int(userID)].keys()\n",
    "                else 0\n",
    "            )\n",
    "            #artistsTagsDict艺术家对标签的相关度，userTagPre用户对标签的主观喜好\n",
    "            if int(tagID) not in userTagPre[int(userID)].keys():\n",
    "                userTagPre[int(userID)][int(tagID)] = (\n",
    "                    rate_ui * self.artistsTagsDict[int(artistID)][int(tagID)]\n",
    "                    \n",
    "                )\n",
    "                userTagCount[int(userID)][int(tagID)] = 1\n",
    "            else:\n",
    "                userTagPre[int(userID)][int(tagID)] += (\n",
    "                        rate_ui * self.artistsTagsDict[int(artistID)][int(tagID)]\n",
    "                    )\n",
    "                userTagCount[int(userID)][int(tagID)] += 1\n",
    "    \n",
    "    for userID in userTagPre.keys():\n",
    "        for tagID in userTagPre[userID].keys():\n",
    "            #tfidf值为用户对标签的依赖度\n",
    "            #计算tf值\n",
    "            tf_ut = self.userTagDict[int(userID)][int(tagID)] / sum(self.userTagDict[int(userID)].values())\n",
    "            #计算idf值\n",
    "            idf_ut = math.log(Num * 1.0 / (self.tagUserDict[int(tagID)] + 1))\n",
    "            #用户对标签的兴趣度为主观喜好度*依赖度\n",
    "            userTagPre[userID][tagID] = (\n",
    "                userTagPre[userID][tagID] / userTagCount[userID][tagID] * tf_ut * idf_ut\n",
    "            )\n",
    "        return userTagPre\n",
    "            \n"
   ]
  },
  {
   "cell_type": "code",
   "execution_count": null,
   "metadata": {},
   "outputs": [],
   "source": []
  },
  {
   "cell_type": "code",
   "execution_count": null,
   "metadata": {},
   "outputs": [],
   "source": []
  },
  {
   "cell_type": "code",
   "execution_count": null,
   "metadata": {},
   "outputs": [],
   "source": []
  },
  {
   "cell_type": "code",
   "execution_count": null,
   "metadata": {},
   "outputs": [],
   "source": []
  },
  {
   "cell_type": "code",
   "execution_count": null,
   "metadata": {},
   "outputs": [],
   "source": []
  },
  {
   "cell_type": "code",
   "execution_count": null,
   "metadata": {},
   "outputs": [],
   "source": []
  },
  {
   "cell_type": "code",
   "execution_count": null,
   "metadata": {},
   "outputs": [],
   "source": []
  },
  {
   "cell_type": "code",
   "execution_count": null,
   "metadata": {},
   "outputs": [],
   "source": []
  }
 ],
 "metadata": {
  "kernelspec": {
   "display_name": "Python 3",
   "language": "python",
   "name": "python3"
  },
  "language_info": {
   "codemirror_mode": {
    "name": "ipython",
    "version": 3
   },
   "file_extension": ".py",
   "mimetype": "text/x-python",
   "name": "python",
   "nbconvert_exporter": "python",
   "pygments_lexer": "ipython3",
   "version": "3.7.1"
  }
 },
 "nbformat": 4,
 "nbformat_minor": 2
}

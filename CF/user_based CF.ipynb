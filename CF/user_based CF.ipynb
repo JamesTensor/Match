{
 "cells": [
  {
   "cell_type": "code",
   "execution_count": 106,
   "metadata": {},
   "outputs": [],
   "source": [
    "import pandas as pd\n",
    "import numpy as np\n",
    "import math\n",
    "import json"
   ]
  },
  {
   "cell_type": "code",
   "execution_count": 107,
   "metadata": {},
   "outputs": [],
   "source": [
    "data_home = \"./\""
   ]
  },
  {
   "cell_type": "code",
   "execution_count": 108,
   "metadata": {},
   "outputs": [],
   "source": [
    "dict_user_u = {}\n",
    "for line in open(data_home+\"new_triplet_dataset_sum_df_test_1.csv\", \"r\", encoding=\"utf-8\"):\n",
    "    #根据head（）来改动\n",
    "    user_id,goods_id,click_count_goods, add_cart_count, order_count, click_count_sum, score= line.strip().split(',')\n",
    "    #itemSim.setdefault(goods_id, 0)\n",
    "    dict_user_u.setdefault(str(user_id), {})    \n",
    "    dict_user_u[user_id][goods_id] = score"
   ]
  },
  {
   "cell_type": "code",
   "execution_count": 109,
   "metadata": {},
   "outputs": [],
   "source": [
    "del dict_user_u['user_id']"
   ]
  },
  {
   "cell_type": "code",
   "execution_count": 1,
   "metadata": {
    "ExecuteTime": {
     "end_time": "2020-12-02T02:21:08.213592Z",
     "start_time": "2020-12-02T02:21:08.211465Z"
    }
   },
   "outputs": [],
   "source": [
    "#dict_user_u"
   ]
  },
  {
   "cell_type": "code",
   "execution_count": 110,
   "metadata": {},
   "outputs": [
    {
     "ename": "KeyboardInterrupt",
     "evalue": "",
     "output_type": "error",
     "traceback": [
      "\u001b[0;31m---------------------------------------------------------------------------\u001b[0m",
      "\u001b[0;31mKeyboardInterrupt\u001b[0m                         Traceback (most recent call last)",
      "\u001b[0;32m<ipython-input-110-836649301dee>\u001b[0m in \u001b[0;36m<module>\u001b[0;34m\u001b[0m\n\u001b[1;32m    110\u001b[0m \u001b[0;34m\u001b[0m\u001b[0m\n\u001b[1;32m    111\u001b[0m \u001b[0;32mif\u001b[0m \u001b[0m__name__\u001b[0m \u001b[0;34m==\u001b[0m \u001b[0;34m\"__main__\"\u001b[0m\u001b[0;34m:\u001b[0m\u001b[0;34m\u001b[0m\u001b[0;34m\u001b[0m\u001b[0m\n\u001b[0;32m--> 112\u001b[0;31m     \u001b[0mub\u001b[0m \u001b[0;34m=\u001b[0m \u001b[0mUserCF\u001b[0m\u001b[0;34m(\u001b[0m\u001b[0mdict_user_u\u001b[0m\u001b[0;34m)\u001b[0m\u001b[0;34m\u001b[0m\u001b[0;34m\u001b[0m\u001b[0m\n\u001b[0m\u001b[1;32m    113\u001b[0m     \u001b[0;31m#print(ub.users_sim)\u001b[0m\u001b[0;34m\u001b[0m\u001b[0;34m\u001b[0m\u001b[0;34m\u001b[0m\u001b[0m\n\u001b[1;32m    114\u001b[0m     \u001b[0;31m#print(ub.recommend('33689928'))\u001b[0m\u001b[0;34m\u001b[0m\u001b[0;34m\u001b[0m\u001b[0;34m\u001b[0m\u001b[0m\n",
      "\u001b[0;32m<ipython-input-110-836649301dee>\u001b[0m in \u001b[0;36m__init__\u001b[0;34m(self, dict_user_u)\u001b[0m\n\u001b[1;32m      4\u001b[0m         \u001b[0;31m#self.users_sim = self.userSimilarity()\u001b[0m\u001b[0;34m\u001b[0m\u001b[0;34m\u001b[0m\u001b[0;34m\u001b[0m\u001b[0m\n\u001b[1;32m      5\u001b[0m         \u001b[0;31m#self.users_sim = self.userSimilarityBetter()\u001b[0m\u001b[0;34m\u001b[0m\u001b[0;34m\u001b[0m\u001b[0;34m\u001b[0m\u001b[0m\n\u001b[0;32m----> 6\u001b[0;31m         \u001b[0mself\u001b[0m\u001b[0;34m.\u001b[0m\u001b[0musers_sim\u001b[0m \u001b[0;34m=\u001b[0m \u001b[0mself\u001b[0m\u001b[0;34m.\u001b[0m\u001b[0mUserSimilarityBest\u001b[0m\u001b[0;34m(\u001b[0m\u001b[0;34m)\u001b[0m\u001b[0;34m\u001b[0m\u001b[0;34m\u001b[0m\u001b[0m\n\u001b[0m\u001b[1;32m      7\u001b[0m \u001b[0;34m\u001b[0m\u001b[0m\n\u001b[1;32m      8\u001b[0m     \u001b[0;31m# 计算用户之间的相似度,采用的是遍历每一个用户进行计算\u001b[0m\u001b[0;34m\u001b[0m\u001b[0;34m\u001b[0m\u001b[0;34m\u001b[0m\u001b[0m\n",
      "\u001b[0;31mKeyboardInterrupt\u001b[0m: "
     ]
    }
   ],
   "source": [
    "class UserCF:\n",
    "    def __init__(self, dict_user_u):\n",
    "        self.user_score_dict = dict_user_u\n",
    "        #self.users_sim = self.userSimilarity()\n",
    "        #self.users_sim = self.userSimilarityBetter()\n",
    "        self.users_sim = self.UserSimilarityBest()\n",
    "        \n",
    "    # 计算用户之间的相似度,采用的是遍历每一个用户进行计算\n",
    "    def userSimilarity(self):\n",
    "        W = dict()\n",
    "        for u in self.user_score_dict.keys():\n",
    "            W.setdefault(u,{})\n",
    "            for v in self.user_score_dict.keys():\n",
    "                if u == v:\n",
    "                    continue\n",
    "                u_set = set([key for key in self.user_score_dict[u].keys() if float(self.user_score_dict[u][key]) > 0])\n",
    "                v_set = set([key for key in self.user_score_dict[v].keys() if float(self.user_score_dict[v][key]) > 0])\n",
    "                num_1 = float(len(u_set & v_set))\n",
    "                W[u][v] = num_1 / (len(u_set) + len(v_set))\n",
    "        return W\n",
    "\n",
    "    # 计算用户之间的相似度，采用优化算法时间复杂度的方法\n",
    "    def userSimilarityBetter(self):\n",
    "        # 得到每个item被哪些user评价过\n",
    "        item_users = dict()\n",
    "        for u, items in self.user_score_dict.items():\n",
    "            for i in items.keys():\n",
    "                item_users.setdefault(i,set())\n",
    "                if float(self.user_score_dict[u][i]) > 0:\n",
    "                    item_users[i].add(u)\n",
    "        # 构建倒排表\n",
    "        C = dict()\n",
    "        N = dict()\n",
    "        for i, users in item_users.items():\n",
    "            for u in users:\n",
    "                N.setdefault(u,0)\n",
    "                N[u] += 1\n",
    "                C.setdefault(u,{})\n",
    "                for v in users:\n",
    "                    C[u].setdefault(v, 0)\n",
    "                    if u == v:\n",
    "                        continue\n",
    "                    C[u][v] += 1\n",
    "        \n",
    "        # 构建相似度矩阵\n",
    "        W = dict()\n",
    "        for u, related_users in C.items():\n",
    "            W.setdefault(u,{})\n",
    "            for v, cuv in related_users.items():\n",
    "                if u==v:\n",
    "                    continue\n",
    "                W[u].setdefault(v, 0.0)\n",
    "                W[u][v] = cuv / (N[u] * N[v])\n",
    "        return W\n",
    "\n",
    "    # 计算用户之间的相似度，采用惩罚热门商品和优化算法复杂度的算法\n",
    "    def UserSimilarityBest(self):\n",
    "        # 得到每个item被哪些user评价过\n",
    "        item_users = dict()\n",
    "        for u, items in self.user_score_dict.items():\n",
    "            for i in items.keys():\n",
    "                item_users.setdefault(i,set())\n",
    "                #if float(self.user_score_dict[u][i]) > 0:\n",
    "                item_users[i].add(u)\n",
    "        # 构建倒排表\n",
    "        C = dict()\n",
    "        N = dict()\n",
    "        for i, users in item_users.items():\n",
    "            for u in users:\n",
    "                N.setdefault(u,0)\n",
    "                N[u] += 1\n",
    "                C.setdefault(u,{})\n",
    "                for v in users:\n",
    "                    C[u].setdefault(v, 0)\n",
    "                    if u == v:\n",
    "                        continue\n",
    "                    C[u][v] += 1 / math.log(1+len(users))\n",
    "        # 构建相似度矩阵\n",
    "        W = dict()\n",
    "        for u, related_users in C.items():\n",
    "            W.setdefault(u,{})\n",
    "            for v, cuv in related_users.items():\n",
    "                if u==v:\n",
    "                    continue\n",
    "                W[u].setdefault(v, 0.0)\n",
    "                W[u][v] = cuv / math.sqrt(N[u] * N[v])\n",
    "        return W\n",
    "    # 预测用户对item的评分\n",
    "    def preUserItemScore(self, userA, item):\n",
    "        score = 0.0\n",
    "        for user in self.users_sim[userA].keys():\n",
    "            if user != userA:\n",
    "                try:\n",
    "                    num = float(self.user_score_dict[user][item])\n",
    "                except:\n",
    "                    num = 0                    \n",
    "                score += (float(self.users_sim[userA][user]) * num)\n",
    "        return score\n",
    "\n",
    "    # 为用户推荐物品\n",
    "    def recommend(self, userA):\n",
    "        # 计算userA 未评分item的可能评分\n",
    "        user_item_score_dict = dict()\n",
    "        for item in self.user_score_dict[userA].keys():\n",
    "            if float(self.user_score_dict[userA][item]) <= 0:\n",
    "                user_item_score_dict[item] = self.preUserItemScore(userA, item)\n",
    "        return user_item_score_dict\n",
    "\n",
    "    \n",
    "\n",
    "if __name__ == \"__main__\":\n",
    "    ub = UserCF(dict_user_u)\n",
    "    #print(ub.users_sim)\n",
    "    #print(ub.recommend('33689928'))\n",
    "\n",
    "    \n"
   ]
  },
  {
   "cell_type": "code",
   "execution_count": 102,
   "metadata": {},
   "outputs": [],
   "source": [
    "dict_predict_result_u = {}"
   ]
  },
  {
   "cell_type": "code",
   "execution_count": 103,
   "metadata": {},
   "outputs": [],
   "source": [
    "for i in dict_user_u.keys(): \n",
    "    dict_predict_result_u[i]=sorted(ub.recommend(i).items(), key=lambda v: v[1])[::-1][:4]\n",
    "        "
   ]
  },
  {
   "cell_type": "code",
   "execution_count": 104,
   "metadata": {},
   "outputs": [
    {
     "data": {
      "text/plain": [
       "22195"
      ]
     },
     "execution_count": 104,
     "metadata": {},
     "output_type": "execute_result"
    }
   ],
   "source": [
    "len(dict_predict_result_u.keys())"
   ]
  },
  {
   "cell_type": "code",
   "execution_count": null,
   "metadata": {},
   "outputs": [],
   "source": [
    "file_u=open('dict_predict_price_result_u_1.json',mode='w')\n",
    "file_u.writelines(json.dumps(dict_predict_result_u)+',\\n' +'\\n')\n",
    "file_u.close()"
   ]
  },
  {
   "cell_type": "code",
   "execution_count": null,
   "metadata": {},
   "outputs": [],
   "source": []
  },
  {
   "cell_type": "code",
   "execution_count": null,
   "metadata": {},
   "outputs": [],
   "source": []
  }
 ],
 "metadata": {
  "kernelspec": {
   "display_name": "Python 3",
   "language": "python",
   "name": "python3"
  },
  "language_info": {
   "codemirror_mode": {
    "name": "ipython",
    "version": 3
   },
   "file_extension": ".py",
   "mimetype": "text/x-python",
   "name": "python",
   "nbconvert_exporter": "python",
   "pygments_lexer": "ipython3",
   "version": "3.7.1"
  },
  "toc": {
   "base_numbering": 1,
   "nav_menu": {},
   "number_sections": true,
   "sideBar": true,
   "skip_h1_title": false,
   "title_cell": "Table of Contents",
   "title_sidebar": "Contents",
   "toc_cell": false,
   "toc_position": {},
   "toc_section_display": true,
   "toc_window_display": false
  },
  "varInspector": {
   "cols": {
    "lenName": 16,
    "lenType": 16,
    "lenVar": 40
   },
   "kernels_config": {
    "python": {
     "delete_cmd_postfix": "",
     "delete_cmd_prefix": "del ",
     "library": "var_list.py",
     "varRefreshCmd": "print(var_dic_list())"
    },
    "r": {
     "delete_cmd_postfix": ") ",
     "delete_cmd_prefix": "rm(",
     "library": "var_list.r",
     "varRefreshCmd": "cat(var_dic_list()) "
    }
   },
   "types_to_exclude": [
    "module",
    "function",
    "builtin_function_or_method",
    "instance",
    "_Feature"
   ],
   "window_display": false
  }
 },
 "nbformat": 4,
 "nbformat_minor": 2
}

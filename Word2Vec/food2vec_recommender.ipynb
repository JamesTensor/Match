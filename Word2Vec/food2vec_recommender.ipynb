{
 "cells": [
  {
   "cell_type": "code",
   "execution_count": 1,
   "metadata": {
    "ExecuteTime": {
     "end_time": "2020-11-28T05:10:27.072066Z",
     "start_time": "2020-11-28T05:10:23.279416Z"
    }
   },
   "outputs": [
    {
     "name": "stderr",
     "output_type": "stream",
     "text": [
      "UsageError: Line magic function `%matplotlib inline` not found.\n"
     ]
    }
   ],
   "source": [
    "import pandas as pd\n",
    "import numpy as np\n",
    "import json\n",
    "from scipy.sparse import hstack\n",
    "import time\n",
    "from collections import Counter\n",
    "from sklearn.preprocessing.data import OneHotEncoder\n",
    "from sklearn import preprocessing\n",
    "import gc\n",
    "import umap.umap_ as umap\n",
    "import os\n",
    "from gensim.models import Word2Vec\n",
    "import pickle\n",
    "import matplotlib.pyplot as plt\n",
    "%matplotlib inline\n",
    "import warnings;\n",
    "warnings.filterwarnings('ignore')\n",
    "import json\n"
   ]
  },
  {
   "cell_type": "code",
   "execution_count": 12,
   "metadata": {
    "ExecuteTime": {
     "end_time": "2020-11-28T05:18:37.938052Z",
     "start_time": "2020-11-28T05:12:29.304972Z"
    }
   },
   "outputs": [],
   "source": [
    "data_test_df = pd.DataFrame(columns=['distinct_id','keyword','time'])\n",
    "for i in range(1,51):\n",
    "    file_name = '/Users/wjj/Desktop/jupyte/food_recommender/data/0308/%s.csv'%i\n",
    "    if os.path.exists(file_name):\n",
    "        data_tmp_df = pd.read_csv(file_name,header=0)\n",
    "        data_test_df = pd.concat([data_tmp_df,data_test_df],axis=0)\n",
    "    else:\n",
    "        print(i)\n",
    "del data_tmp_df;gc.collect()"
   ]
  },
  {
   "cell_type": "code",
   "execution_count": 15,
   "metadata": {
    "ExecuteTime": {
     "end_time": "2020-11-28T05:34:26.304193Z",
     "start_time": "2020-11-28T05:33:36.271771Z"
    },
    "collapsed": true
   },
   "outputs": [
    {
     "ename": "KeyboardInterrupt",
     "evalue": "",
     "output_type": "error",
     "traceback": [
      "\u001b[0;31m---------------------------------------------------------------------------\u001b[0m",
      "\u001b[0;31mKeyboardInterrupt\u001b[0m                         Traceback (most recent call last)",
      "\u001b[0;32m<ipython-input-15-c3f4bffdb2e0>\u001b[0m in \u001b[0;36m<module>\u001b[0;34m\u001b[0m\n\u001b[1;32m      1\u001b[0m \u001b[0;31m#data_test_df = data_df.head(5000000).copy()\u001b[0m\u001b[0;34m\u001b[0m\u001b[0;34m\u001b[0m\u001b[0;34m\u001b[0m\u001b[0m\n\u001b[0;32m----> 2\u001b[0;31m \u001b[0mdata_test_df\u001b[0m\u001b[0;34m[\u001b[0m\u001b[0;34m'time'\u001b[0m\u001b[0;34m]\u001b[0m \u001b[0;34m=\u001b[0m \u001b[0;34m[\u001b[0m\u001b[0mpd\u001b[0m\u001b[0;34m.\u001b[0m\u001b[0mTimestamp\u001b[0m\u001b[0;34m(\u001b[0m\u001b[0mtime\u001b[0m\u001b[0;34m)\u001b[0m \u001b[0;32mfor\u001b[0m \u001b[0mtime\u001b[0m \u001b[0;32min\u001b[0m \u001b[0mdata_test_df\u001b[0m\u001b[0;34m[\u001b[0m\u001b[0;34m'time'\u001b[0m\u001b[0;34m]\u001b[0m\u001b[0;34m.\u001b[0m\u001b[0mvalues\u001b[0m\u001b[0;34m]\u001b[0m\u001b[0;34m\u001b[0m\u001b[0;34m\u001b[0m\u001b[0m\n\u001b[0m\u001b[1;32m      3\u001b[0m \u001b[0mdata_test_df\u001b[0m\u001b[0;34m[\u001b[0m\u001b[0;34m'time'\u001b[0m\u001b[0;34m]\u001b[0m \u001b[0;34m=\u001b[0m \u001b[0mdata_test_df\u001b[0m\u001b[0;34m[\u001b[0m\u001b[0;34m'time'\u001b[0m\u001b[0;34m]\u001b[0m\u001b[0;34m.\u001b[0m\u001b[0mapply\u001b[0m\u001b[0;34m(\u001b[0m\u001b[0;32mlambda\u001b[0m \u001b[0mx\u001b[0m\u001b[0;34m:\u001b[0m \u001b[0;34m'%s-%s-%s'\u001b[0m\u001b[0;34m%\u001b[0m\u001b[0;34m(\u001b[0m\u001b[0mx\u001b[0m\u001b[0;34m.\u001b[0m\u001b[0myear\u001b[0m\u001b[0;34m,\u001b[0m\u001b[0mx\u001b[0m\u001b[0;34m.\u001b[0m\u001b[0mmonth\u001b[0m\u001b[0;34m,\u001b[0m\u001b[0mx\u001b[0m\u001b[0;34m.\u001b[0m\u001b[0mday\u001b[0m\u001b[0;34m)\u001b[0m\u001b[0;34m)\u001b[0m\u001b[0;34m\u001b[0m\u001b[0;34m\u001b[0m\u001b[0m\n\u001b[1;32m      4\u001b[0m \u001b[0mdata_test_df\u001b[0m \u001b[0;34m=\u001b[0m \u001b[0mdata_test_df\u001b[0m\u001b[0;34m.\u001b[0m\u001b[0mdrop_duplicates\u001b[0m\u001b[0;34m(\u001b[0m\u001b[0;34m[\u001b[0m\u001b[0;34m'distinct_id'\u001b[0m\u001b[0;34m,\u001b[0m\u001b[0;34m'keyword'\u001b[0m\u001b[0;34m,\u001b[0m\u001b[0;34m'time'\u001b[0m\u001b[0;34m]\u001b[0m\u001b[0;34m)\u001b[0m\u001b[0;34m\u001b[0m\u001b[0;34m\u001b[0m\u001b[0m\n\u001b[1;32m      5\u001b[0m \u001b[0;31m#data_test_df.sort_values('time')\u001b[0m\u001b[0;34m\u001b[0m\u001b[0;34m\u001b[0m\u001b[0;34m\u001b[0m\u001b[0m\n",
      "\u001b[0;32m<ipython-input-15-c3f4bffdb2e0>\u001b[0m in \u001b[0;36m<listcomp>\u001b[0;34m(.0)\u001b[0m\n\u001b[1;32m      1\u001b[0m \u001b[0;31m#data_test_df = data_df.head(5000000).copy()\u001b[0m\u001b[0;34m\u001b[0m\u001b[0;34m\u001b[0m\u001b[0;34m\u001b[0m\u001b[0m\n\u001b[0;32m----> 2\u001b[0;31m \u001b[0mdata_test_df\u001b[0m\u001b[0;34m[\u001b[0m\u001b[0;34m'time'\u001b[0m\u001b[0;34m]\u001b[0m \u001b[0;34m=\u001b[0m \u001b[0;34m[\u001b[0m\u001b[0mpd\u001b[0m\u001b[0;34m.\u001b[0m\u001b[0mTimestamp\u001b[0m\u001b[0;34m(\u001b[0m\u001b[0mtime\u001b[0m\u001b[0;34m)\u001b[0m \u001b[0;32mfor\u001b[0m \u001b[0mtime\u001b[0m \u001b[0;32min\u001b[0m \u001b[0mdata_test_df\u001b[0m\u001b[0;34m[\u001b[0m\u001b[0;34m'time'\u001b[0m\u001b[0;34m]\u001b[0m\u001b[0;34m.\u001b[0m\u001b[0mvalues\u001b[0m\u001b[0;34m]\u001b[0m\u001b[0;34m\u001b[0m\u001b[0;34m\u001b[0m\u001b[0m\n\u001b[0m\u001b[1;32m      3\u001b[0m \u001b[0mdata_test_df\u001b[0m\u001b[0;34m[\u001b[0m\u001b[0;34m'time'\u001b[0m\u001b[0;34m]\u001b[0m \u001b[0;34m=\u001b[0m \u001b[0mdata_test_df\u001b[0m\u001b[0;34m[\u001b[0m\u001b[0;34m'time'\u001b[0m\u001b[0;34m]\u001b[0m\u001b[0;34m.\u001b[0m\u001b[0mapply\u001b[0m\u001b[0;34m(\u001b[0m\u001b[0;32mlambda\u001b[0m \u001b[0mx\u001b[0m\u001b[0;34m:\u001b[0m \u001b[0;34m'%s-%s-%s'\u001b[0m\u001b[0;34m%\u001b[0m\u001b[0;34m(\u001b[0m\u001b[0mx\u001b[0m\u001b[0;34m.\u001b[0m\u001b[0myear\u001b[0m\u001b[0;34m,\u001b[0m\u001b[0mx\u001b[0m\u001b[0;34m.\u001b[0m\u001b[0mmonth\u001b[0m\u001b[0;34m,\u001b[0m\u001b[0mx\u001b[0m\u001b[0;34m.\u001b[0m\u001b[0mday\u001b[0m\u001b[0;34m)\u001b[0m\u001b[0;34m)\u001b[0m\u001b[0;34m\u001b[0m\u001b[0;34m\u001b[0m\u001b[0m\n\u001b[1;32m      4\u001b[0m \u001b[0mdata_test_df\u001b[0m \u001b[0;34m=\u001b[0m \u001b[0mdata_test_df\u001b[0m\u001b[0;34m.\u001b[0m\u001b[0mdrop_duplicates\u001b[0m\u001b[0;34m(\u001b[0m\u001b[0;34m[\u001b[0m\u001b[0;34m'distinct_id'\u001b[0m\u001b[0;34m,\u001b[0m\u001b[0;34m'keyword'\u001b[0m\u001b[0;34m,\u001b[0m\u001b[0;34m'time'\u001b[0m\u001b[0;34m]\u001b[0m\u001b[0;34m)\u001b[0m\u001b[0;34m\u001b[0m\u001b[0;34m\u001b[0m\u001b[0m\n\u001b[1;32m      5\u001b[0m \u001b[0;31m#data_test_df.sort_values('time')\u001b[0m\u001b[0;34m\u001b[0m\u001b[0;34m\u001b[0m\u001b[0;34m\u001b[0m\u001b[0m\n",
      "\u001b[0;32mpandas/_libs/tslibs/timestamps.pyx\u001b[0m in \u001b[0;36mpandas._libs.tslibs.timestamps.Timestamp.__new__\u001b[0;34m()\u001b[0m\n",
      "\u001b[0;32mpandas/_libs/tslibs/conversion.pyx\u001b[0m in \u001b[0;36mpandas._libs.tslibs.conversion.convert_to_tsobject\u001b[0;34m()\u001b[0m\n",
      "\u001b[0;32mpandas/_libs/tslibs/conversion.pyx\u001b[0m in \u001b[0;36mpandas._libs.tslibs.conversion._convert_str_to_tsobject\u001b[0;34m()\u001b[0m\n",
      "\u001b[0;32mpandas/_libs/tslibs/conversion.pyx\u001b[0m in \u001b[0;36mpandas._libs.tslibs.conversion.convert_to_tsobject\u001b[0;34m()\u001b[0m\n",
      "\u001b[0;31mKeyboardInterrupt\u001b[0m: "
     ]
    }
   ],
   "source": [
    "data_test_df['time'] = [pd.Timestamp(time) for time in data_test_df['time'].values]\n",
    "data_test_df['time'] = data_test_df['time'].apply(lambda x: '%s-%s-%s'%(x.year,x.month,x.day))\n",
    "data_test_df = data_test_df.drop_duplicates(['distinct_id','keyword','time'])\n",
    "data_test_df['keyword']=data_test_df['keyword'].astype(str)"
   ]
  },
  {
   "cell_type": "code",
   "execution_count": null,
   "metadata": {
    "ExecuteTime": {
     "end_time": "2020-11-28T05:34:26.311598Z",
     "start_time": "2020-11-28T05:33:36.692Z"
    }
   },
   "outputs": [],
   "source": [
    "data_test_df = data_test_df.sort_values(by=['distinct_id','time'],ascending=True) "
   ]
  },
  {
   "cell_type": "code",
   "execution_count": null,
   "metadata": {
    "ExecuteTime": {
     "end_time": "2020-11-28T05:34:26.316810Z",
     "start_time": "2020-11-28T05:33:37.028Z"
    }
   },
   "outputs": [],
   "source": [
    "data_test_df = data_test_df[['distinct_id','keyword']].groupby(['distinct_id']).apply(lambda x: x['keyword'].tolist()).reset_index()             "
   ]
  },
  {
   "cell_type": "code",
   "execution_count": null,
   "metadata": {
    "ExecuteTime": {
     "end_time": "2020-11-28T05:34:26.323113Z",
     "start_time": "2020-11-28T05:33:37.331Z"
    }
   },
   "outputs": [],
   "source": [
    "data_test_df.rename(columns={0:'keyword'},inplace=True)"
   ]
  },
  {
   "cell_type": "code",
   "execution_count": null,
   "metadata": {
    "ExecuteTime": {
     "end_time": "2020-11-28T05:34:26.328853Z",
     "start_time": "2020-11-28T05:33:37.744Z"
    }
   },
   "outputs": [],
   "source": [
    "data_test_df"
   ]
  },
  {
   "cell_type": "code",
   "execution_count": null,
   "metadata": {
    "ExecuteTime": {
     "end_time": "2020-11-28T05:34:26.333884Z",
     "start_time": "2020-11-28T05:33:45.811Z"
    }
   },
   "outputs": [],
   "source": [
    "data_test_df=data_test_df.sort_values(by=['distinct_id','time'],ascending=True) \n",
    "data_test_df = data_test_df[['distinct_id','keyword']].groupby(['distinct_id']).apply(lambda x: x['keyword'].tolist()).reset_index()             \n",
    "data_test_df.rename(columns={0:'keyword'},inplace=True)"
   ]
  },
  {
   "cell_type": "code",
   "execution_count": 19,
   "metadata": {
    "ExecuteTime": {
     "end_time": "2020-11-28T05:36:24.372035Z",
     "start_time": "2020-11-28T05:36:24.297467Z"
    }
   },
   "outputs": [],
   "source": [
    "train_data_list = data_test_df['keyword'].tolist()"
   ]
  },
  {
   "cell_type": "code",
   "execution_count": 20,
   "metadata": {
    "ExecuteTime": {
     "end_time": "2020-11-28T06:29:45.073503Z",
     "start_time": "2020-11-28T05:36:31.176928Z"
    }
   },
   "outputs": [
    {
     "data": {
      "text/plain": [
       "(889493056, 2102498200)"
      ]
     },
     "execution_count": 20,
     "metadata": {},
     "output_type": "execute_result"
    }
   ],
   "source": [
    "model = Word2Vec(window = 5, sg = 1, hs = 0,negative = 10,alpha=0.03, min_alpha=0.0007,seed = 14)\n",
    "model.build_vocab(train_data_list,progress_per=200)\n",
    "model.train(train_data_list,total_examples=model.corpus_count,epochs=10,report_delay=1)"
   ]
  },
  {
   "cell_type": "code",
   "execution_count": 21,
   "metadata": {
    "ExecuteTime": {
     "end_time": "2020-11-28T12:38:47.089898Z",
     "start_time": "2020-11-28T12:38:47.053477Z"
    },
    "collapsed": true
   },
   "outputs": [
    {
     "name": "stderr",
     "output_type": "stream",
     "text": [
      "/Users/wjj/anaconda3/lib/python3.7/site-packages/ipykernel_launcher.py:1: DeprecationWarning: Call to deprecated `__getitem__` (Method will be removed in 4.0.0, use self.wv.__getitem__() instead).\n",
      "  \"\"\"Entry point for launching an IPython kernel.\n"
     ]
    },
    {
     "data": {
      "text/plain": [
       "(5571, 100)"
      ]
     },
     "execution_count": 21,
     "metadata": {},
     "output_type": "execute_result"
    }
   ],
   "source": [
    "X = model[model.wv.vocab]\n",
    "X.shape"
   ]
  },
  {
   "cell_type": "code",
   "execution_count": 22,
   "metadata": {
    "ExecuteTime": {
     "end_time": "2020-11-28T12:39:11.310387Z",
     "start_time": "2020-11-28T12:38:54.307694Z"
    }
   },
   "outputs": [
    {
     "data": {
      "text/plain": [
       "<matplotlib.collections.PathCollection at 0x1b8094bc18>"
      ]
     },
     "execution_count": 22,
     "metadata": {},
     "output_type": "execute_result"
    },
    {
     "data": {
      "image/png": "[encoded data removed]",
      "text/plain": [
       "<Figure size 720x648 with 1 Axes>"
      ]
     },
     "metadata": {
      "needs_background": "light"
     },
     "output_type": "display_data"
    }
   ],
   "source": [
    "cluster_embedding=umap.UMAP(n_neighbors=30,min_dist=0.0,n_components=2,random_state=42).fit_transform(X)\n",
    "plt.figure(figsize=(10,9))\n",
    "plt.scatter(cluster_embedding[:,0],cluster_embedding[:,1],s=3,cmap='Spectral')"
   ]
  },
  {
   "cell_type": "code",
   "execution_count": 23,
   "metadata": {
    "ExecuteTime": {
     "end_time": "2020-11-28T12:39:28.688948Z",
     "start_time": "2020-11-28T12:39:28.684703Z"
    }
   },
   "outputs": [],
   "source": [
    "def similar_products(v,n=100):\n",
    "    ms=model.similar_by_vector(v,topn=n+1)[1:]\n",
    "    new_ms=[]\n",
    "    for j in ms:\n",
    "        pair=(j[0][0],j[1])\n",
    "        new_ms.append(pair)\n",
    "    return new_ms"
   ]
  },
  {
   "cell_type": "code",
   "execution_count": 37,
   "metadata": {
    "ExecuteTime": {
     "end_time": "2020-11-28T13:51:12.217595Z",
     "start_time": "2020-11-28T13:51:12.209645Z"
    }
   },
   "outputs": [],
   "source": [
    "def recommder(input_word): \n",
    "    input_word_list = []\n",
    "    #input_word = ['鱼','青菜','韭菜']\n",
    "    stop_words_list = ['水','方便面','稀饭','粥','油','面','脆肉皖','脆肉鲩','雨','挂面','汤圆','元宵','面条','米饭','汤圆','白开水','菜','肉','汤','人造肉','橘子','草莓','砂糖橘','龙虾排','泡面','火锅','漫画','辣条','薯片','砂糖桔','桔子','白昼','车厘子','小橘子','橙子','白饭','巧克力','奶茶','糖果','沙糖桔','可乐','雪碧','皇帝柑']\n",
    "    for i in input_word:\n",
    "        tmp_list = [s for s in i]\n",
    "        input_word_list.extend(tmp_list) \n",
    "    #food_recommend_df = pd.DataFrame(columns=[\"food\", \"similarity\"])\n",
    "    food_recommend_df = pd.DataFrame(model.predict_output_word(context_words_list=input_word,topn=500), columns=[\"food\", \"similarity\"])\n",
    "    #return_list = model.predict_output_word(context_words_list=input_word,topn=50)\n",
    "    result_dict = {}\n",
    "    for index,row in food_recommend_df.iterrows():\n",
    "        list_1 = [row[0].find(y) for y in input_word_list]\n",
    "        if sum(list_1) == len(list_1)*(-1) and row[0] not in stop_words_list:\n",
    "            result_dict[row[0]]=round(row[1],8)*100\n",
    "    return result_dict\n"
   ]
  },
  {
   "cell_type": "code",
   "execution_count": 1,
   "metadata": {
    "ExecuteTime": {
     "end_time": "2020-12-01T12:01:29.765868Z",
     "start_time": "2020-12-01T12:01:29.763407Z"
    }
   },
   "outputs": [],
   "source": [
    "#防止泄密就把结果注释啦\n",
    "#recommder(['牛奶'])"
   ]
  },
  {
   "cell_type": "code",
   "execution_count": 2,
   "metadata": {
    "ExecuteTime": {
     "end_time": "2020-12-01T12:01:31.460710Z",
     "start_time": "2020-12-01T12:01:31.458327Z"
    }
   },
   "outputs": [],
   "source": [
    " #model.wv.most_similar(positive=['啤酒'], negative = None,topn=50)"
   ]
  },
  {
   "cell_type": "code",
   "execution_count": 9,
   "metadata": {},
   "outputs": [],
   "source": [
    "def recommder(input_word): \n",
    "    with open('/Users/wjj/Desktop/jupyter/food_recommender/data/stop_words_2.pk', 'rb') as f:\n",
    "        stop_words_list = pickle.load(f)\n",
    "    input_word_list =[]\n",
    "    for i in input_word:\n",
    "        tmp_list = [s for s in i]\n",
    "        input_word_list.extend(tmp_list)\n",
    "    model = Word2Vec.load(\"/Users/wjj/Desktop/jupyter/food_recommender/model/word2vec_0330_9000w.model\")\n",
    "    food_recommend_df = pd.DataFrame(model.predict_output_word(context_words_list=input_word,topn=1000), columns=[\"food\", \"similarity\"])\n",
    "    food_recommend_df = food_recommend_df[~(food_recommend_df['food'].str.contains('\\?\\?'))]\n",
    "    result_dict = {}\n",
    "    for index,row in food_recommend_df.iterrows():\n",
    "        list_1 = [row[0].find(y) for y in input_word_list] +[row[0].find(y) for y in ['料','酱','油','水','锅']]\n",
    "        if sum(list_1) == len(list_1)*(-1) and row[0] not in stop_words_list:\n",
    "            result_dict[row[0]]=round(row[1]*100,3)\n",
    "    #model.wv.most_similar(positive=['菜花'], negative = None,topn=50)\n",
    "    return result_dict"
   ]
  },
  {
   "cell_type": "code",
   "execution_count": 4,
   "metadata": {
    "scrolled": true
   },
   "outputs": [
    {
     "name": "stderr",
     "output_type": "stream",
     "text": [
      "/Users/wjj/anaconda3/lib/python3.7/site-packages/smart_open/smart_open_lib.py:398: UserWarning: This function is deprecated, use smart_open.open instead. See the migration notes for details: https://github.com/RaRe-Technologies/smart_open/blob/master/README.rst#migrating-to-the-new-open-function\n",
      "  'See the migration notes for details: %s' % _MIGRATION_NOTES_URL\n"
     ]
    },
    {
     "data": {
      "text/plain": [
       "{'番茄炒蛋': 0.115,\n",
       " '番茄炒鸡蛋': 0.113,\n",
       " '鱼香肉丝': 0.106,\n",
       " '宫保鸡丁': 0.105,\n",
       " '素炒小白菜': 0.104,\n",
       " '蒜茸炒白菜': 0.099,\n",
       " '麻婆豆腐': 0.097,\n",
       " '红烧鸡块': 0.094,\n",
       " '炖大白菜': 0.094,\n",
       " '红烧肉': 0.093,\n",
       " '鱼香茄子': 0.092,\n",
       " '酸辣土豆丝': 0.091,\n",
       " '蒜末冬瓜': 0.09,\n",
       " '炒绿豆芽': 0.085,\n",
       " '烧茄子': 0.084,\n",
       " '青菜炒草菇': 0.08,\n",
       " '焖拌青菜': 0.077,\n",
       " '黄瓜炒蛋': 0.077,\n",
       " '茭白肉片': 0.077,\n",
       " '土豆炖牛肉': 0.076,\n",
       " '豆豉炒茄子': 0.075,\n",
       " '红烧牛肉': 0.074,\n",
       " '香菇炒卷心菜': 0.074,\n",
       " '青椒炒鸡蛋': 0.074,\n",
       " '家常鲫鱼': 0.073,\n",
       " '莲藕炒肉片': 0.073,\n",
       " '炒青菜': 0.073,\n",
       " '红烧大排': 0.073,\n",
       " '咖喱鸡块土豆': 0.072,\n",
       " '清炒土豆丝': 0.072,\n",
       " '素炒白花藕': 0.072,\n",
       " '丝瓜炒蛋': 0.071,\n",
       " '炒空心菜': 0.071,\n",
       " '清炒黄豆芽': 0.071,\n",
       " '素炒芹菜': 0.07,\n",
       " '炝青椒肉丝': 0.07,\n",
       " '香菇鸡块': 0.07,\n",
       " '红烧茄子': 0.069,\n",
       " '苦瓜炒肉丝': 0.068,\n",
       " '肉丝茭白': 0.068,\n",
       " '蒜苔炒肉丝': 0.068,\n",
       " '烧包菜丝': 0.068,\n",
       " '尖椒炒藕片': 0.068,\n",
       " '肉片炒菜花': 0.067,\n",
       " '炒土豆丝': 0.066,\n",
       " '胡萝卜炒肉丝': 0.066,\n",
       " '清炒嫩黄瓜': 0.065,\n",
       " '肉末茄子': 0.065,\n",
       " '咖喱牛肉': 0.065,\n",
       " '毛豆炒肉丁': 0.065,\n",
       " '炒韭菜': 0.065,\n",
       " '榨菜炒肉丝': 0.064,\n",
       " '豇豆（煮）': 0.064,\n",
       " '小白菜汤': 0.064,\n",
       " '煎南瓜': 0.064,\n",
       " '五香鸭肉': 0.064,\n",
       " '红烧带鱼': 0.063,\n",
       " '小白菜': 0.063,\n",
       " '土豆炖豆角': 0.063,\n",
       " '爆炒圆白菜': 0.063,\n",
       " '虎皮青椒': 0.063,\n",
       " '肉片炒青椒': 0.063,\n",
       " '鸡蛋炒韭菜': 0.062,\n",
       " '肉片炒卷心菜': 0.062,\n",
       " '姜拌海带': 0.062,\n",
       " '土豆烧牛肉': 0.062,\n",
       " '红烧带鱼段': 0.061,\n",
       " '虾皮冬瓜丝': 0.061,\n",
       " '尖椒炒茄子': 0.061,\n",
       " '毛豆炒绞肉': 0.061,\n",
       " '冬瓜汤': 0.061,\n",
       " '炒苋菜': 0.06,\n",
       " '螺丝肉': 0.06,\n",
       " '家常土豆丝': 0.06,\n",
       " '土豆烧肉': 0.06,\n",
       " '梅干菜烧肉': 0.06,\n",
       " '芹菜炒豆腐干': 0.059,\n",
       " '酸豆角炒肉粒': 0.059,\n",
       " '酸辣冬瓜片': 0.059,\n",
       " '烧豇豆': 0.059,\n",
       " '黑木耳炒猪肝片': 0.059,\n",
       " '清蒸茄子': 0.059,\n",
       " '芹菜炒牛肉丝': 0.059,\n",
       " '辣椒炒苦瓜': 0.059,\n",
       " '炒嫩南瓜丝': 0.059,\n",
       " '干烧四季豆': 0.059,\n",
       " '青红椒土豆丝': 0.058,\n",
       " '鸡蛋炒苦瓜': 0.058,\n",
       " '豆角炒肉丝': 0.058,\n",
       " '清蒸扁鱼': 0.058}"
      ]
     },
     "execution_count": 4,
     "metadata": {},
     "output_type": "execute_result"
    }
   ],
   "source": [
    "recommder(['米饭'])"
   ]
  },
  {
   "cell_type": "code",
   "execution_count": 187,
   "metadata": {},
   "outputs": [
    {
     "name": "stdout",
     "output_type": "stream",
     "text": [
      "[('素鸡', -0.24899399999999997), ('焖拌青菜', -0.189), ('毛豆', -0.17808000000000002), ('豇豆', -0.16207400000000002), ('菜花', -0.1545), ('藕', -0.15271200000000001), ('炒空心菜', -0.148893), ('炒韭菜', -0.143004), ('鸡毛菜', -0.138116), ('冬瓜汤', -0.136048), ('鸡蛋炒韭菜', -0.134608), ('炒绿豆芽', -0.134514), ('小白菜', -0.13122), ('酸辣土豆丝', -0.12796800000000003), ('丝瓜炒蛋', -0.12157399999999999), ('肉丝茭白', -0.118), ('葫芦', -0.11672), ('猪肚', -0.11549999999999999), ('红烧大排', -0.111444), ('番茄汤', -0.10678), ('河虾', -0.10290400000000001), ('番茄鸡蛋汤', -0.101688), ('清炒土豆丝', -0.1), ('丝瓜毛豆子', -0.098), ('红烧茄子', -0.09711900000000001), ('炒土豆丝', -0.09472499999999999), ('炒青菜', -0.094365), ('青红椒土豆丝', -0.093), ('蒜茸炒白菜', -0.089), ('瓦罐鸡汤', -0.089), ('素炒小白菜', -0.086), ('肉片冬瓜汤', -0.085), ('香菇炒卷心菜', -0.084), ('白粥', -0.083775), ('烧包菜丝', -0.082), ('素炒白花藕', -0.082), ('清炒西葫芦', -0.08), ('肉片炒青椒', -0.079), ('烧豇豆', -0.077), ('开洋冬瓜汤', -0.075)]\n"
     ]
    }
   ],
   "source": [
    "score_dict = {}\n",
    "for i in result_dict.keys():\n",
    "    score = food_1_df[food_1_df['keyword']==i].food_effect*result_dict[i]\n",
    "    try:\n",
    "        score_dict[i]=score.values[0]\n",
    "    except:\n",
    "        score_dict[i]=-1*result_dict[i]\n",
    "score_dict = sorted(score_dict.items(),key=lambda x:x[1],reverse=False)\n",
    "print(score_dict)"
   ]
  },
  {
   "cell_type": "code",
   "execution_count": 7,
   "metadata": {},
   "outputs": [],
   "source": [
    "def score_fun(food_list):\n",
    "    score_result = 0\n",
    "    for i in food_list:\n",
    "        tmp_food_list = food_list.copy()\n",
    "        score_sum = 0\n",
    "        tmp_food_list.remove(i)\n",
    "        tmp_dict = recommder([i])\n",
    "        for v in tmp_food_list:\n",
    "            try:\n",
    "                score = tmp_dict[v]\n",
    "            except:\n",
    "                score = 0\n",
    "            score_sum += score\n",
    "        score_result += score_sum\n",
    "    return score_result\n",
    "        "
   ]
  },
  {
   "cell_type": "code",
   "execution_count": null,
   "metadata": {},
   "outputs": [],
   "source": []
  },
  {
   "cell_type": "code",
   "execution_count": null,
   "metadata": {},
   "outputs": [],
   "source": []
  },
  {
   "cell_type": "code",
   "execution_count": null,
   "metadata": {},
   "outputs": [],
   "source": []
  },
  {
   "cell_type": "code",
   "execution_count": null,
   "metadata": {},
   "outputs": [],
   "source": []
  },
  {
   "cell_type": "code",
   "execution_count": null,
   "metadata": {},
   "outputs": [],
   "source": []
  },
  {
   "cell_type": "code",
   "execution_count": null,
   "metadata": {},
   "outputs": [],
   "source": []
  },
  {
   "cell_type": "code",
   "execution_count": null,
   "metadata": {},
   "outputs": [],
   "source": []
  },
  {
   "cell_type": "code",
   "execution_count": null,
   "metadata": {},
   "outputs": [],
   "source": []
  },
  {
   "cell_type": "code",
   "execution_count": null,
   "metadata": {},
   "outputs": [],
   "source": []
  },
  {
   "cell_type": "code",
   "execution_count": null,
   "metadata": {},
   "outputs": [],
   "source": []
  },
  {
   "cell_type": "code",
   "execution_count": null,
   "metadata": {},
   "outputs": [],
   "source": []
  }
 ],
 "metadata": {
  "kernelspec": {
   "display_name": "Python 3",
   "language": "python",
   "name": "python3"
  },
  "language_info": {
   "codemirror_mode": {
    "name": "ipython",
    "version": 3
   },
   "file_extension": ".py",
   "mimetype": "text/x-python",
   "name": "python",
   "nbconvert_exporter": "python",
   "pygments_lexer": "ipython3",
   "version": "3.7.1"
  },
  "toc": {
   "base_numbering": 1,
   "nav_menu": {},
   "number_sections": true,
   "sideBar": true,
   "skip_h1_title": false,
   "title_cell": "Table of Contents",
   "title_sidebar": "Contents",
   "toc_cell": false,
   "toc_position": {},
   "toc_section_display": true,
   "toc_window_display": false
  },
  "varInspector": {
   "cols": {
    "lenName": 16,
    "lenType": 16,
    "lenVar": 40
   },
   "kernels_config": {
    "python": {
     "delete_cmd_postfix": "",
     "delete_cmd_prefix": "del ",
     "library": "var_list.py",
     "varRefreshCmd": "print(var_dic_list())"
    },
    "r": {
     "delete_cmd_postfix": ") ",
     "delete_cmd_prefix": "rm(",
     "library": "var_list.r",
     "varRefreshCmd": "cat(var_dic_list()) "
    }
   },
   "types_to_exclude": [
    "module",
    "function",
    "builtin_function_or_method",
    "instance",
    "_Feature"
   ],
   "window_display": false
  }
 },
 "nbformat": 4,
 "nbformat_minor": 2
}

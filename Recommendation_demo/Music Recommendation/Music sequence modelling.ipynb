{
 "cells": [
  {
   "cell_type": "code",
   "execution_count": 6,
   "metadata": {},
   "outputs": [],
   "source": [
    "import multiprocessing\n",
    "import gensim\n",
    "import sys\n",
    "from random import shuffle\n",
    "\n"
   ]
  },
  {
   "cell_type": "code",
   "execution_count": 11,
   "metadata": {},
   "outputs": [],
   "source": [
    "def parse_playlist_get_sequence(in_line, playlist_sequence):\n",
    "    song_sequence = []\n",
    "    #按行切分歌单文件，得到的一行表示一个歌单\n",
    "    contents = in_line.strip().split(\"\\t\")\n",
    "    # 解析歌单序列\n",
    "    for song in contents[1:]:\n",
    "        try:\n",
    "            song_id, song_name, artist, popularity = song.split(\":::\")\n",
    "            song_sequence.append(song_id)\n",
    "        except:\n",
    "            print(\"song format error\")\n",
    "            print(song+\"\\n\")\n",
    "        for i in range(len(song_sequence)):\n",
    "            #打乱可加可不加，就是一个歌单有摇滚100首，word2vec认为第50首和窗口内的几首歌有联系，但是实际上第一首和第50首也有关系，打乱重复歌单\n",
    "            #后就可以使的一个歌单内的所有歌曲都有均等机会经窗口的。不加的话影响也不大，可根据实际场景来决定。\n",
    "            shuffle(song_sequence)\n",
    "            playlist_sequence.append(song_sequence)\n",
    "\n",
    "\n",
    "def train_song2vec(in_file, out_file):\n",
    "    #所有歌单序列\n",
    "    playlist_sequence = []\n",
    "    #遍历所有歌单\n",
    "    for line in open(in_file):\n",
    "        parse_playlist_get_sequence(line, playlist_sequence)\n",
    "    #使用word2vec训练\n",
    "    cores = multiprocessing.cpu_count()\n",
    "    print(\"Training word2vec model...\")\n",
    "    gensim.models.Word2Vec(sentences=playlist_sequence, size = 150, min_count=3, window= 7, workers=cores)\n",
    "    print(\"Saving model...\")\n",
    "    model.save(out_file)\n"
   ]
  },
  {
   "cell_type": "code",
   "execution_count": null,
   "metadata": {},
   "outputs": [
    {
     "name": "stdout",
     "output_type": "stream",
     "text": [
      "song format error\n",
      "405599088:::Make Them Wheels Roll\n",
      "\n",
      "song format error\n",
      ":::SAFIA:::100.0\n",
      "\n",
      "song format error\n",
      "424496188:::大王叫我来巡山 - （原唱：\n",
      "\n",
      "song format error\n",
      " 贾乃亮/贾云馨）:::流浪的蛙蛙:::65.0\n",
      "\n",
      "song format error\n",
      "19169096:::\n",
      "\n",
      "song format error\n",
      " Time to Say Goodbye (Con te partirò):::Sarah Brightman:::100.0\n",
      "\n",
      "song format error\n",
      "26902203:::What’s your name? (collaboration with 壇蜜)\n",
      "\n",
      "song format error\n",
      ":::SoulJa:::100.0\n",
      "\n",
      "song format error\n",
      "33054290:::\n",
      "\n",
      "song format error\n",
      "Heartbeats:::Dabin:::95.0\n",
      "\n",
      "song format error\n",
      "427373827:::Champions (From \"Hands of Stone\") \n",
      "\n",
      "song format error\n",
      ":::Usher:::30.0\n",
      "\n",
      "song format error\n",
      "31654811:::\n",
      "\n",
      "song format error\n",
      "American Cowboys:::Tim Wynn:::65.0\n",
      "\n",
      "song format error\n",
      "19169096:::\n",
      "\n",
      "song format error\n",
      " Time to Say Goodbye (Con te partirò):::Sarah Brightman:::100.0\n",
      "\n",
      "song format error\n",
      "19169096:::\n",
      "\n",
      "song format error\n",
      " Time to Say Goodbye (Con te partirò):::Sarah Brightman:::100.0\n",
      "\n",
      "Training word2vec model...\n"
     ]
    }
   ],
   "source": [
    "song_squence_file = \"./popular.playlist\"\n",
    "model_file = '/Users/wjj/Desktop/七月在线音乐推荐/recomendation_system_codes/song2vec.model'\n",
    "#耗时比较久\n",
    "train_song2vec(song_squence_file, model_file)\n"
   ]
  },
  {
   "cell_type": "code",
   "execution_count": null,
   "metadata": {},
   "outputs": [],
   "source": [
    "#加载数据集和训练好的模型\n",
    "import pickle\n",
    "song_dic = pickle.load(open('populars_song.pkl','rb'))\n",
    "model_str = './song2vec.model'\n",
    "gensim.models.Word2Vec.load(model_str)\n"
   ]
  },
  {
   "cell_type": "code",
   "execution_count": null,
   "metadata": {},
   "outputs": [],
   "source": [
    "#看一眼歌曲的id和mingzi\n",
    "for song in song_dic.keys()[:10]:\n",
    "    print(song,song_dic[song])\n",
    "#字典的1000到1500里，每隔50取一首\n",
    "song_id_list = song_dic.keys()[1000:1500:50]\n",
    "for song_id in song_id_list:\n",
    "    result_song_list = model.most_similar(song_id)\n",
    "    print(song_id, song_dic[song_id])\n",
    "    print('相似歌曲和相似度为：')\n",
    "    for song in result_song_list:\n",
    "        print('\\t', song_dic[0],song[1])"
   ]
  },
  {
   "cell_type": "code",
   "execution_count": null,
   "metadata": {},
   "outputs": [],
   "source": []
  }
 ],
 "metadata": {
  "kernelspec": {
   "display_name": "Python 3",
   "language": "python",
   "name": "python3"
  },
  "language_info": {
   "codemirror_mode": {
    "name": "ipython",
    "version": 3
   },
   "file_extension": ".py",
   "mimetype": "text/x-python",
   "name": "python",
   "nbconvert_exporter": "python",
   "pygments_lexer": "ipython3",
   "version": "3.7.1"
  }
 },
 "nbformat": 4,
 "nbformat_minor": 2
}

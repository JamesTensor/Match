{
 "cells": [
  {
   "cell_type": "code",
   "execution_count": 1,
   "metadata": {},
   "outputs": [],
   "source": [
    "import pandas as pd\n",
    "import numpy as np\n",
    "import math\n",
    "import time"
   ]
  },
  {
   "cell_type": "markdown",
   "metadata": {},
   "source": [
    "## 数据读取"
   ]
  },
  {
   "cell_type": "code",
   "execution_count": 2,
   "metadata": {},
   "outputs": [],
   "source": [
    "data_home = \"./\""
   ]
  },
  {
   "cell_type": "code",
   "execution_count": 3,
   "metadata": {},
   "outputs": [
    {
     "name": "stderr",
     "output_type": "stream",
     "text": [
      "/Users/wjj/anaconda3/lib/python3.7/site-packages/IPython/core/interactiveshell.py:3020: DtypeWarning: Columns (0) have mixed types. Specify dtype option on import or set low_memory=False.\n",
      "  interactivity=interactivity, compiler=compiler, result=result)\n"
     ]
    }
   ],
   "source": [
    "triplet_dataset = pd.read_csv(filepath_or_buffer = data_home +\"output.csv\", \n",
    "                              sep=\",\", header=None, \n",
    "                              names=[\"user_id\",\"goods_id\",\"click_count\",\"add_cart_count\",\"order_count\"])"
   ]
  },
  {
   "cell_type": "code",
   "execution_count": 4,
   "metadata": {},
   "outputs": [
    {
     "data": {
      "text/plain": [
       "(21500149, 5)"
      ]
     },
     "execution_count": 4,
     "metadata": {},
     "output_type": "execute_result"
    }
   ],
   "source": [
    "triplet_dataset.shape"
   ]
  },
  {
   "cell_type": "code",
   "execution_count": 5,
   "metadata": {},
   "outputs": [
    {
     "name": "stdout",
     "output_type": "stream",
     "text": [
      "<class 'pandas.core.frame.DataFrame'>\n",
      "RangeIndex: 21500149 entries, 0 to 21500148\n",
      "Data columns (total 5 columns):\n",
      "user_id           object\n",
      "goods_id          object\n",
      "click_count       int64\n",
      "add_cart_count    int64\n",
      "order_count       int64\n",
      "dtypes: int64(3), object(2)\n",
      "memory usage: 820.2+ MB\n"
     ]
    }
   ],
   "source": [
    "triplet_dataset.info()"
   ]
  },
  {
   "cell_type": "code",
   "execution_count": 26,
   "metadata": {},
   "outputs": [],
   "source": [
    "#对每一个用户，分别统计他的click总量\n",
    "out_dict = {}\n",
    "with open(data_home + \"output.csv\") as f:\n",
    "    #enumerate给出可遍历的对象的索引和索引值\n",
    "    for line_number, line in enumerate(f):\n",
    "        user = line.split(\",\")[0]\n",
    "        click_count = int(line.split(\",\")[2]) + int(line.split(\",\")[3]) * 5 + int(line.split(\",\")[4]) * 10\n",
    "       \n",
    "        #如果用户以前就有过点击行为，累加\n",
    "        if user in out_dict:\n",
    "            click_count += out_dict[user]\n",
    "            out_dict.update({user:click_count})\n",
    "        #如果用户第一次统计点击行为，赋值\n",
    "        out_dict.update({user:click_count})\n",
    "output_list = [{\"user\":k,\"click_count\":v} for k,v in out_dict.items()]"
   ]
  },
  {
   "cell_type": "code",
   "execution_count": 27,
   "metadata": {},
   "outputs": [
    {
     "data": {
      "text/plain": [
       "click_count    False\n",
       "user           False\n",
       "dtype: bool"
      ]
     },
     "execution_count": 27,
     "metadata": {},
     "output_type": "execute_result"
    }
   ],
   "source": [
    "click_count_df = pd.DataFrame(output_list)\n",
    "click_count_df.isnull().any()"
   ]
  },
  {
   "cell_type": "code",
   "execution_count": 28,
   "metadata": {},
   "outputs": [],
   "source": [
    "#以点击数量为指标排序，方便过滤掉点击量太少的用户\n",
    "click_count_df = click_count_df.sort_values(by = \"click_count\", ascending=False)"
   ]
  },
  {
   "cell_type": "code",
   "execution_count": 30,
   "metadata": {},
   "outputs": [
    {
     "data": {
      "text/plain": [
       "(4619238, 2)"
      ]
     },
     "execution_count": 30,
     "metadata": {},
     "output_type": "execute_result"
    }
   ],
   "source": [
    "click_count_df.shape"
   ]
  },
  {
   "cell_type": "code",
   "execution_count": 31,
   "metadata": {},
   "outputs": [],
   "source": [
    "click_count_df.to_csv(path_or_buf=\"user_click_count_df.csv\", index = False)"
   ]
  },
  {
   "cell_type": "code",
   "execution_count": 32,
   "metadata": {
    "collapsed": true
   },
   "outputs": [
    {
     "data": {
      "text/plain": [
       "click_count    False\n",
       "user           False\n",
       "dtype: bool"
      ]
     },
     "execution_count": 32,
     "metadata": {},
     "output_type": "execute_result"
    }
   ],
   "source": [
    "click_count_df.isnull().any()"
   ]
  },
  {
   "cell_type": "code",
   "execution_count": 35,
   "metadata": {},
   "outputs": [
    {
     "name": "stdout",
     "output_type": "stream",
     "text": [
      "0.7625129925335955\n"
     ]
    }
   ],
   "source": [
    "#没意义了\n",
    "#取其中一部分数（按大小排好序的了，这些应该是比较重要的数据），作为我们的实验数据\n",
    "total_click_count = sum(click_count_df.click_count)\n",
    "#取前30万个用户拿出来看看，发现点击数已经占到总数的40%，说明很多用户都是惰性用户\n",
    "#如果一个用户点击量太少，比如1，那么他对这个商品打分为1，这不合适，因为他只是随便看看。必须要点击量达到一定数量的统计才有可信度。\n",
    "print(float(click_count_df.head(n=400000).click_count.sum()) / total_click_count)\n",
    "#460多万个用户里前40万用户点击数占比76.2%"
   ]
  },
  {
   "cell_type": "code",
   "execution_count": 38,
   "metadata": {},
   "outputs": [
    {
     "name": "stdout",
     "output_type": "stream",
     "text": [
      "0.7205310828630093\n"
     ]
    }
   ],
   "source": [
    "print(float(click_count_df.head(n=300000).click_count.sum()) / total_click_count)\n",
    "#前30万用户点击数占比72%"
   ]
  },
  {
   "cell_type": "code",
   "execution_count": 67,
   "metadata": {},
   "outputs": [],
   "source": [
    "triplet_dataset_sum_df = pd.merge(triplet_dataset_sub,click_count_df, how=\"inner\", left_on=\"user_id\", right_on=\"user\")"
   ]
  },
  {
   "cell_type": "code",
   "execution_count": 76,
   "metadata": {},
   "outputs": [],
   "source": [
    "triplet_dataset_sum_df.rename(columns={\"click_count_y\":\"click_count_sum\"},inplace = True)"
   ]
  },
  {
   "cell_type": "code",
   "execution_count": 77,
   "metadata": {},
   "outputs": [],
   "source": [
    "triplet_dataset_sum_df.rename(columns={\"click_count_x\":\"click_count_goods\"},inplace = True)"
   ]
  },
  {
   "cell_type": "code",
   "execution_count": 81,
   "metadata": {},
   "outputs": [],
   "source": [
    "del(triplet_dataset_sum_df[\"user\"])"
   ]
  },
  {
   "cell_type": "code",
   "execution_count": 95,
   "metadata": {
    "collapsed": true
   },
   "outputs": [
    {
     "ename": "TypeError",
     "evalue": "cannot convert the series to <class 'float'>",
     "output_type": "error",
     "traceback": [
      "\u001b[0;31m---------------------------------------------------------------------------\u001b[0m",
      "\u001b[0;31mTypeError\u001b[0m                                 Traceback (most recent call last)",
      "\u001b[0;32m<ipython-input-95-f563c35b557b>\u001b[0m in \u001b[0;36m<module>\u001b[0;34m\u001b[0m\n\u001b[0;32m----> 1\u001b[0;31m \u001b[0mtriplet_dataset_sum_df\u001b[0m\u001b[0;34m[\u001b[0m\u001b[0;34m\"click_count_sum_sqrt\"\u001b[0m\u001b[0;34m]\u001b[0m \u001b[0;34m=\u001b[0m \u001b[0mmath\u001b[0m\u001b[0;34m.\u001b[0m\u001b[0msqrt\u001b[0m\u001b[0;34m(\u001b[0m\u001b[0mtriplet_dataset_sum_df\u001b[0m\u001b[0;34m[\u001b[0m\u001b[0;34m\"click_count_sum\"\u001b[0m\u001b[0;34m]\u001b[0m\u001b[0;34m[\u001b[0m\u001b[0;36m2\u001b[0m\u001b[0;34m:\u001b[0m\u001b[0;34m]\u001b[0m\u001b[0;34m)\u001b[0m\u001b[0;34m\u001b[0m\u001b[0;34m\u001b[0m\u001b[0m\n\u001b[0m",
      "\u001b[0;32m~/anaconda3/lib/python3.7/site-packages/pandas/core/series.py\u001b[0m in \u001b[0;36mwrapper\u001b[0;34m(self)\u001b[0m\n\u001b[1;32m    116\u001b[0m             \u001b[0;32mreturn\u001b[0m \u001b[0mconverter\u001b[0m\u001b[0;34m(\u001b[0m\u001b[0mself\u001b[0m\u001b[0;34m.\u001b[0m\u001b[0miloc\u001b[0m\u001b[0;34m[\u001b[0m\u001b[0;36m0\u001b[0m\u001b[0;34m]\u001b[0m\u001b[0;34m)\u001b[0m\u001b[0;34m\u001b[0m\u001b[0;34m\u001b[0m\u001b[0m\n\u001b[1;32m    117\u001b[0m         raise TypeError(\"cannot convert the series to \"\n\u001b[0;32m--> 118\u001b[0;31m                         \"{0}\".format(str(converter)))\n\u001b[0m\u001b[1;32m    119\u001b[0m \u001b[0;34m\u001b[0m\u001b[0m\n\u001b[1;32m    120\u001b[0m     \u001b[0;32mreturn\u001b[0m \u001b[0mwrapper\u001b[0m\u001b[0;34m\u001b[0m\u001b[0;34m\u001b[0m\u001b[0m\n",
      "\u001b[0;31mTypeError\u001b[0m: cannot convert the series to <class 'float'>"
     ]
    }
   ],
   "source": [
    "triplet_dataset_sum_df[\"click_count_sum_sqrt\"] = math.sqrt(triplet_dataset_sum_df[\"click_count_sum\"][2:])"
   ]
  },
  {
   "cell_type": "code",
   "execution_count": 135,
   "metadata": {
    "collapsed": true
   },
   "outputs": [
    {
     "ename": "KeyboardInterrupt",
     "evalue": "",
     "output_type": "error",
     "traceback": [
      "\u001b[0;31m---------------------------------------------------------------------------\u001b[0m",
      "\u001b[0;31mKeyboardInterrupt\u001b[0m                         Traceback (most recent call last)",
      "\u001b[0;32m<ipython-input-135-ab3c31826dc9>\u001b[0m in \u001b[0;36m<module>\u001b[0;34m\u001b[0m\n\u001b[1;32m      1\u001b[0m \u001b[0;32mimport\u001b[0m \u001b[0mmath\u001b[0m\u001b[0;34m\u001b[0m\u001b[0;34m\u001b[0m\u001b[0m\n\u001b[1;32m      2\u001b[0m \u001b[0;32mfor\u001b[0m \u001b[0mi\u001b[0m \u001b[0;32min\u001b[0m \u001b[0mtriplet_dataset_sum_df\u001b[0m\u001b[0;34m[\u001b[0m\u001b[0;34m\"click_count_sum\"\u001b[0m\u001b[0;34m]\u001b[0m\u001b[0;34m:\u001b[0m\u001b[0;34m\u001b[0m\u001b[0;34m\u001b[0m\u001b[0m\n\u001b[0;32m----> 3\u001b[0;31m     \u001b[0mtriplet_dataset_sum_df\u001b[0m\u001b[0;34m[\u001b[0m\u001b[0;34m\"click_count_sum_sqrt\"\u001b[0m\u001b[0;34m]\u001b[0m \u001b[0;34m=\u001b[0m \u001b[0mround\u001b[0m\u001b[0;34m(\u001b[0m\u001b[0mmath\u001b[0m\u001b[0;34m.\u001b[0m\u001b[0msqrt\u001b[0m\u001b[0;34m(\u001b[0m\u001b[0mi\u001b[0m\u001b[0;34m)\u001b[0m\u001b[0;34m,\u001b[0m \u001b[0;36m3\u001b[0m\u001b[0;34m)\u001b[0m\u001b[0;34m\u001b[0m\u001b[0;34m\u001b[0m\u001b[0m\n\u001b[0m\u001b[1;32m      4\u001b[0m \u001b[0;34m\u001b[0m\u001b[0m\n",
      "\u001b[0;32m~/anaconda3/lib/python3.7/site-packages/pandas/core/frame.py\u001b[0m in \u001b[0;36m__setitem__\u001b[0;34m(self, key, value)\u001b[0m\n\u001b[1;32m   3117\u001b[0m         \u001b[0;32melse\u001b[0m\u001b[0;34m:\u001b[0m\u001b[0;34m\u001b[0m\u001b[0;34m\u001b[0m\u001b[0m\n\u001b[1;32m   3118\u001b[0m             \u001b[0;31m# set column\u001b[0m\u001b[0;34m\u001b[0m\u001b[0;34m\u001b[0m\u001b[0;34m\u001b[0m\u001b[0m\n\u001b[0;32m-> 3119\u001b[0;31m             \u001b[0mself\u001b[0m\u001b[0;34m.\u001b[0m\u001b[0m_set_item\u001b[0m\u001b[0;34m(\u001b[0m\u001b[0mkey\u001b[0m\u001b[0;34m,\u001b[0m \u001b[0mvalue\u001b[0m\u001b[0;34m)\u001b[0m\u001b[0;34m\u001b[0m\u001b[0;34m\u001b[0m\u001b[0m\n\u001b[0m\u001b[1;32m   3120\u001b[0m \u001b[0;34m\u001b[0m\u001b[0m\n\u001b[1;32m   3121\u001b[0m     \u001b[0;32mdef\u001b[0m \u001b[0m_setitem_slice\u001b[0m\u001b[0;34m(\u001b[0m\u001b[0mself\u001b[0m\u001b[0;34m,\u001b[0m \u001b[0mkey\u001b[0m\u001b[0;34m,\u001b[0m \u001b[0mvalue\u001b[0m\u001b[0;34m)\u001b[0m\u001b[0;34m:\u001b[0m\u001b[0;34m\u001b[0m\u001b[0;34m\u001b[0m\u001b[0m\n",
      "\u001b[0;32m~/anaconda3/lib/python3.7/site-packages/pandas/core/frame.py\u001b[0m in \u001b[0;36m_set_item\u001b[0;34m(self, key, value)\u001b[0m\n\u001b[1;32m   3192\u001b[0m \u001b[0;34m\u001b[0m\u001b[0m\n\u001b[1;32m   3193\u001b[0m         \u001b[0mself\u001b[0m\u001b[0;34m.\u001b[0m\u001b[0m_ensure_valid_index\u001b[0m\u001b[0;34m(\u001b[0m\u001b[0mvalue\u001b[0m\u001b[0;34m)\u001b[0m\u001b[0;34m\u001b[0m\u001b[0;34m\u001b[0m\u001b[0m\n\u001b[0;32m-> 3194\u001b[0;31m         \u001b[0mvalue\u001b[0m \u001b[0;34m=\u001b[0m \u001b[0mself\u001b[0m\u001b[0;34m.\u001b[0m\u001b[0m_sanitize_column\u001b[0m\u001b[0;34m(\u001b[0m\u001b[0mkey\u001b[0m\u001b[0;34m,\u001b[0m \u001b[0mvalue\u001b[0m\u001b[0;34m)\u001b[0m\u001b[0;34m\u001b[0m\u001b[0;34m\u001b[0m\u001b[0m\n\u001b[0m\u001b[1;32m   3195\u001b[0m         \u001b[0mNDFrame\u001b[0m\u001b[0;34m.\u001b[0m\u001b[0m_set_item\u001b[0m\u001b[0;34m(\u001b[0m\u001b[0mself\u001b[0m\u001b[0;34m,\u001b[0m \u001b[0mkey\u001b[0m\u001b[0;34m,\u001b[0m \u001b[0mvalue\u001b[0m\u001b[0;34m)\u001b[0m\u001b[0;34m\u001b[0m\u001b[0;34m\u001b[0m\u001b[0m\n\u001b[1;32m   3196\u001b[0m \u001b[0;34m\u001b[0m\u001b[0m\n",
      "\u001b[0;32m~/anaconda3/lib/python3.7/site-packages/pandas/core/frame.py\u001b[0m in \u001b[0;36m_sanitize_column\u001b[0;34m(self, key, value, broadcast)\u001b[0m\n\u001b[1;32m   3408\u001b[0m         \u001b[0;32melse\u001b[0m\u001b[0;34m:\u001b[0m\u001b[0;34m\u001b[0m\u001b[0;34m\u001b[0m\u001b[0m\n\u001b[1;32m   3409\u001b[0m             \u001b[0;31m# upcast the scalar\u001b[0m\u001b[0;34m\u001b[0m\u001b[0;34m\u001b[0m\u001b[0;34m\u001b[0m\u001b[0m\n\u001b[0;32m-> 3410\u001b[0;31m             \u001b[0mvalue\u001b[0m \u001b[0;34m=\u001b[0m \u001b[0mcast_scalar_to_array\u001b[0m\u001b[0;34m(\u001b[0m\u001b[0mlen\u001b[0m\u001b[0;34m(\u001b[0m\u001b[0mself\u001b[0m\u001b[0;34m.\u001b[0m\u001b[0mindex\u001b[0m\u001b[0;34m)\u001b[0m\u001b[0;34m,\u001b[0m \u001b[0mvalue\u001b[0m\u001b[0;34m)\u001b[0m\u001b[0;34m\u001b[0m\u001b[0;34m\u001b[0m\u001b[0m\n\u001b[0m\u001b[1;32m   3411\u001b[0m             \u001b[0mvalue\u001b[0m \u001b[0;34m=\u001b[0m \u001b[0mmaybe_cast_to_datetime\u001b[0m\u001b[0;34m(\u001b[0m\u001b[0mvalue\u001b[0m\u001b[0;34m,\u001b[0m \u001b[0mvalue\u001b[0m\u001b[0;34m.\u001b[0m\u001b[0mdtype\u001b[0m\u001b[0;34m)\u001b[0m\u001b[0;34m\u001b[0m\u001b[0;34m\u001b[0m\u001b[0m\n\u001b[1;32m   3412\u001b[0m \u001b[0;34m\u001b[0m\u001b[0m\n",
      "\u001b[0;32m~/anaconda3/lib/python3.7/site-packages/pandas/core/dtypes/cast.py\u001b[0m in \u001b[0;36mcast_scalar_to_array\u001b[0;34m(shape, value, dtype)\u001b[0m\n\u001b[1;32m   1165\u001b[0m \u001b[0;34m\u001b[0m\u001b[0m\n\u001b[1;32m   1166\u001b[0m     \u001b[0mvalues\u001b[0m \u001b[0;34m=\u001b[0m \u001b[0mnp\u001b[0m\u001b[0;34m.\u001b[0m\u001b[0mempty\u001b[0m\u001b[0;34m(\u001b[0m\u001b[0mshape\u001b[0m\u001b[0;34m,\u001b[0m \u001b[0mdtype\u001b[0m\u001b[0;34m=\u001b[0m\u001b[0mdtype\u001b[0m\u001b[0;34m)\u001b[0m\u001b[0;34m\u001b[0m\u001b[0;34m\u001b[0m\u001b[0m\n\u001b[0;32m-> 1167\u001b[0;31m     \u001b[0mvalues\u001b[0m\u001b[0;34m.\u001b[0m\u001b[0mfill\u001b[0m\u001b[0;34m(\u001b[0m\u001b[0mfill_value\u001b[0m\u001b[0;34m)\u001b[0m\u001b[0;34m\u001b[0m\u001b[0;34m\u001b[0m\u001b[0m\n\u001b[0m\u001b[1;32m   1168\u001b[0m \u001b[0;34m\u001b[0m\u001b[0m\n\u001b[1;32m   1169\u001b[0m     \u001b[0;32mreturn\u001b[0m \u001b[0mvalues\u001b[0m\u001b[0;34m\u001b[0m\u001b[0;34m\u001b[0m\u001b[0m\n",
      "\u001b[0;31mKeyboardInterrupt\u001b[0m: "
     ]
    }
   ],
   "source": [
    "for i in triplet_dataset_sum_df[\"click_count_sum\"]:\n",
    "    triplet_dataset_sum_df[\"click_count_sum_sqrt\"] = round(math.sqrt(i), 3)\n",
    "    "
   ]
  },
  {
   "cell_type": "code",
   "execution_count": 109,
   "metadata": {},
   "outputs": [],
   "source": [
    "#计算商品被当前用户点击量 / 用户点击总量 当做用户对这个商品的打分值\n",
    "triplet_dataset_sum_df[\"score\"] = round(((triplet_dataset_sum_df[\"click_count_goods\"] + triplet_dataset_sum_df[\"add_cart_count\"]*5 + triplet_dataset_sum_df[\"order_count\"]*10) / triplet_dataset_sum_df[\"click_count_sum\"])*100, 3)"
   ]
  },
  {
   "cell_type": "code",
   "execution_count": null,
   "metadata": {},
   "outputs": [],
   "source": [
    "#计算商品被当前用户点击量 / 用户点击总量的平方 以对活跃用户对打分进行补偿\n",
    "triplet_dataset_sum_df[\"score\"] = ((triplet_dataset_sum_df[\"click_count_goods\"] + triplet_dataset_sum_df[\"add_cart_count\"]*5 + triplet_dataset_sum_df[\"order_count\"]*10) / triplet_dataset_sum_df[\"click_count_sum_sqrt\"])*100"
   ]
  },
  {
   "cell_type": "code",
   "execution_count": 111,
   "metadata": {
    "scrolled": true
   },
   "outputs": [
    {
     "data": {
      "text/plain": [
       "user_id                 False\n",
       "goods_id                False\n",
       "click_count_goods       False\n",
       "add_cart_count          False\n",
       "order_count             False\n",
       "click_count_sum         False\n",
       "score                   False\n",
       "click_count_sum_sqrt    False\n",
       "dtype: bool"
      ]
     },
     "execution_count": 111,
     "metadata": {},
     "output_type": "execute_result"
    }
   ],
   "source": [
    "triplet_dataset_sum_df.isnull().any()"
   ]
  },
  {
   "cell_type": "code",
   "execution_count": 112,
   "metadata": {},
   "outputs": [],
   "source": [
    "triplet_dataset_sum_df.to_csv(path_or_buf=data_home+\"triplet_dataset_sum_df.csv\", index=False)"
   ]
  },
  {
   "cell_type": "markdown",
   "metadata": {},
   "source": [
    "## 开始计算item相似度"
   ]
  },
  {
   "cell_type": "code",
   "execution_count": 114,
   "metadata": {},
   "outputs": [],
   "source": [
    "dict_user = {}\n",
    "for line in open(data_home+\"triplet_dataset_sum_df.csv\", \"r\", encoding=\"utf-8\"):\n",
    "    #根据head（）来改动\n",
    "    user_id,goods_id,click_count_goods, add_cart_count, order_count, click_count_sum, score, click_count_sum_sqrt= line.strip().split(',')\n",
    "    #itemSim.setdefault(goods_id, 0)\n",
    "    dict_user.setdefault(str(user_id), {})    \n",
    "    dict_user[user_id][goods_id] = score"
   ]
  },
  {
   "cell_type": "code",
   "execution_count": 115,
   "metadata": {},
   "outputs": [],
   "source": [
    "del dict_user['user_id']"
   ]
  },
  {
   "cell_type": "code",
   "execution_count": 137,
   "metadata": {
    "collapsed": true
   },
   "outputs": [
    {
     "name": "stdout",
     "output_type": "stream",
     "text": [
      "{'p_easyfun_qdszh_190726': 13.616051168931124, 'p_ea_ximeiyin_210ml': 2.630124937939902, 'p_easyfun_zishuzhou_700g': 13.145536588272948, 'easyfun_jzbc_130g_180604': 9.881863819468267, 's_easyfun_niurougan_250g_180808': 16.191853603624118, 'p_cm25_csysj_qm_28g_180330': 9.005942418661679, 's_tm25_yy_meiguo_420g': 14.628980033724497, 's_cm25_green_coffee_140ml': 15.76409231822356, 'p_bu_BH20SW_white': 17.935266827336967, 's_tm25_yyy_x_43_bh_170119': 16.870921146246406, 's_easyfun_zishuzhou_350g': 19.361035917861656, 'p_easyfun_qdszh_zishuzou_qiyazi_dgkf': 11.091827640608328, 's_bhsx_roller_170712': 7.000270770667846, 'p_tm25_mx_330_6_190424': 7.899933868996712, 'p_easyfun_geshidongka_100g': 13.285572577717119, 'p_easyfun_fqjd_4he_181106': 7.713361739380919, 's_ef_ysalb_160g': 14.244786813171565, 's_oday_muscleball_3color': 7.8592823814617105, 's_oday_dizhijixiongrou_100g': 19.588077261822583, 'p_tm25_yykk_xc_new_190103': 7.6685890240205765, 's_bhydg_tlqtld': 7.510488074636171, 's_oday_jixiongrousi_58g': 15.100465822118482, 's_gaodanbai_180g': 15.448873253319732, 'p_easyfun_xinggan_160g': 6.040611074348462, 'p_easyfun_qdszh_zishuzou_qiyazi_kfdby': 18.070953531288012, 's_oday_qiyazibinggan_256g': 18.59688246617754, 'p_ea_yyrtg_36g': 12.286162803751814, 's_easyfun_redsirong_1214': 15.640693106962804, 's_cm25_csysj_qm_28g_180330': 17.0399838083055, 'p_ea_xckfy_350g': 15.18168506987558, 'p_easyfun_curryrice_160g': 10.78896790001544, 'p_diffes_jingluoshu_180713': 7.814811923321937, 'p_mocha_dotdot_150g': 14.339813442509351, 'p_ef_hefengshalazhi_weizeng_240g': 3.400951653226244, 'p_easyfun_mochahongdou_240g': 11.464975308558879, 'p_easyfun_beefrice_160g': 7.8537332738935985, 's_easyfun_xinggan_181017': 11.145008673219676, 'oday_dbb_guwubang_nnqkl_30g': 5.61205832379284, 's_cm25_mocha_180822': 14.922711420577942, 'p_tm25_naidong_xc_190529': 2.552551377411551, 's_cm25_gxmydr_300g': 16.69541289617563, 's_easyfun_niurougan_250g': 14.570347948415971, 's_easyfun_baitao_tea_300g': 15.66792698127559, 'p_diffes_pillow_500g': 3.9072750228669957, 's_cm25_yynd_190529': 15.757080817344985, 's_ef_dzmys_150g': 9.817153353881208, 'p_oday_dbf_mitao_150g_180514': 13.766023203872127, 's_easyfun_yumixu_tea_40g': 15.723192893390221, 's_easyfun_suannaigan_200g': 16.555515934761146, 's_easyfun_fangdaicoffee_181017': 15.307326706176767, 'p_qw_jrw3_jrc2_rs1': 6.529193594441518, 'p_ef_hefengshalazhi_youzi_240g': 7.183267785341181, 'p_oday_surou_wx': 12.334105575387648, 's_cm25_kfdby_duoguige_190227': 19.405110057025116, 's_easyfun_ximeigan_240g': 11.199548436946753, 'p_diffes_nuantie_1108': 4.224933895317439, 's_easyfun_quanmaijgc_160g': 17.336312932039295, 'p_easyfun_heimiquan_240g': 11.10422300714699, 's_ef_hefengshalazhi_youzi_240g': 15.931039549619049, 's_bhsx_nourishing_soup_corn': 15.310134996089241, 's_easyfun_heimiquan_240g': 16.23635803264184, 's_ea_ximeiyin_210ml': 9.65797767843254, 'p_easyfun_redsirong_1214': 9.84229530188146, 'p_easyfun_coconutoat_240g': 3.8472279032399337, 'p_easyfun_guodong_sjt': 10.379029215332778, 'p_BOBO_COCO_350': 9.873440516987502, '1upbar_single_40g': 7.939291147746005, 'p_cm25_kfdby2_new': 11.634826881373456, 's_ef_dzbtwl_300g': 5.7400798976181475, 's_easyfun_geshidongka_100g': 17.43360317788274, 'p_cm25_yykkxin_420g_new_190103': 8.193767655019531, 'p_oday_pad_6mm_pink': 2.493422184442931, 'p_easyfun_heimiquan_zishu_480g_laoke': 4.632272601996016, 's_easyfun_kaomaipian_240g': 16.44627709258773, 's_easyfun_chiaoat_300g': 16.585251700478178, 's_easyfun_curryrice_160g': 19.88905749314021, 'br_lipstick_15ml': 8.121177621772992, 'p_oday_xinnian_xiaoye_20190115': 8.366428680628315, 'p_zuhe_qchz3_gljf2': 10.858115047344986, 'p_easyfun_0jelly_coffee2_720g': 5.618926689890172, 'p_BR_antisugar_191017_new': 7.114927275825454, 's_easys_52_qingduanshi': 12.319763790557957, 'p_bhydg_tld_pink10blue15': 2.8832558072152548, 's_easyfun_zimiquan_240g': 15.133992614660587, 's_cm25_kfdby_2_180716': 9.927601444948035, 's_easyfun_itacoffee_200g_180604': 13.798479280133, 's_oday_sausage_300g': 18.650256393826556, 's_cm25_yykkxin_420g_new_190103': 18.451101168497388, 'p_csd_soymilk_16': 6.499604212848784, 'p_gaodanbai_180g': 9.399299291797469, 'p_oatly_7394376616846': 9.986309957842606, 'p_oday_dbb_choc_240g': 9.693240371352855, 's_diffes_jiashi_kouzhao_181010': 5.226501188048274, 'easyfun_suannaigan_200g': 13.19520686407575, 'p_bhydg_xyl_1kgx2': 4.767147001747755, 's_oday_beef_95g_180416': 7.448048196589501, 'p_oday_xinnian_chiji_20190115': 7.3230812930899125, 'p_easyfun_dongyingong_350g': 8.062643705905034, 's_oday_qingcansauce_320g': 18.0628518781399, 's_cm25_yycy_200g': 16.700685390246292, 'p_easys_52_qingduanshi': 5.717426313936144, 'p_easyfun_baitao_tea_300g': 10.992630064903198, 's_oday_dbb_both_240g': 18.716109496003046, 'p_oday_qingcansauce_320g_2_20190415': 7.094298298906481, 's_shoushentaocan_1000k_190104': 19.42608961655114, 'p_easyfun_mochahongdou_heimiquan_zishuzou': 5.077301557349725, 'p_diffes_anmoshu_150g_180604': 1.5287228298250635, 'p_ef_ysalb_160g': 8.732381855558117, 's_easyfun_jzbc_130g_180709': 15.796243212974806, 'oday_sausage_300g': 7.297765362453678, 'p_cm25_green_coffee_140ml': 8.689628105120121, 'easyfun_madai_tea_20': 7.161871243628418, 'p_oday_pad_mix_purplepink': 3.246486680568596, 'p_easyfun_nrwz_4he_190918': 3.2699894834661456, 'p_tm25_coffee_powder_bh_160816': 1.3375017320580225, 's_CRD_20190306': 17.065888812416897, 's_easyfun_guodong_sjt_2': 17.71645048675884, 's_easyfun_fs_42g': 19.785259104267023, 's_cm25_yyb_384g': 18.513633417969697, 'p_BOBO_COCO_350_6': 3.3278477144099674, 's_easyfun_lazy_bread': 11.419958584246322, 'oday_jidangan_xl': 10.971395884221941, 's_1upbar_20190308': 16.23536473461386, 's_ES_20190716': 11.697201620048721, 'p_br_lipstick_15ml': 7.9693634555564765, 'p_oday_qiyazibinggan_256g': 13.386860121349105, 's_tm25_mx_330_190424': 16.964517538879527, 'p_tm25_mg_mx_190424': 2.6514044086466386, 'p_1upbar_20190308': 8.808613763692343, 's_oday_jirouwan_120g': 18.491554396714758, 'p_oday_qingcansauce_320g_20190415': 6.593991597784437, 'p_diffes_tabuji_1123': 6.980019728537709, 'bhsx_pad_purplepink': 7.576463687129926}\n"
     ]
    }
   ],
   "source": [
    "class ItemCF:\n",
    "    def __init__(self):\n",
    "        self.user_score_dict = dict_user\n",
    "        # self.items_sim = self.ItemSimilarity()\n",
    "        self.items_sim = self.ItemSimilarityBest()\n",
    "\n",
    "    #  计算item之间的相似度\n",
    "    def ItemSimilarity(self):\n",
    "        itemSim = {}\n",
    "        # 得到每个物品有多少用户产生过行为\n",
    "        item_user_count = {}\n",
    "        # 共现矩阵，表示同时喜欢i 和j两个items的用户数\n",
    "        count = {}\n",
    "        for user, item in self.user_score_dict.items():\n",
    "            #i相当于item。\n",
    "            for i in item.keys():\n",
    "                item_user_count.setdefault(i, 0)\n",
    "                #如果该用户对该商品评分大于0\n",
    "                if self.user_score_dict[user][i] > 0.0:\n",
    "                    item_user_count[i] += 1\n",
    "                for j in item.keys():\n",
    "                    count.setdefault(i, {}).setdefault(j, 0)\n",
    "                    if (\n",
    "                        self.user_score_dict[user][i] > 0.0\n",
    "                        and self.user_score_dict[user][j] > 0.0\n",
    "                        and i != j\n",
    "                    ):\n",
    "                        count[i][j] += 1\n",
    "        # 共现矩阵 -> 相似度矩阵\n",
    "        for i, related_items in count.items():\n",
    "            itemSim.setdefault(i, {})\n",
    "            for j, cuv in related_items.items():\n",
    "                itemSim[i].setdefault(j, 0)\n",
    "                itemSim[i][j] = cuv / item_user_count[i]\n",
    "        return itemSim\n",
    "\n",
    "    # 计算item之间的相似度 优化：进行了热门商品的惩罚\n",
    "    def ItemSimilarityBest(self):\n",
    "        itemSim = {}\n",
    "        # 得到每个物品有多少用户产生过行为\n",
    "        item_user_count = {}\n",
    "        # 共现矩阵\n",
    "        count = {}\n",
    "        for user, item in self.user_score_dict.items():\n",
    "            for i in item.keys():\n",
    "                item_user_count.setdefault(i, 0)\n",
    "                if float(self.user_score_dict[user][i]) > 0.0:\n",
    "                    item_user_count[i] += 1\n",
    "                for j in item.keys():\n",
    "                    count.setdefault(i, {}).setdefault(j, 0)\n",
    "                    #print(self.user_score_dict[user][i])\n",
    "                    #print(\"*\")\n",
    "                    #print(self.user_score_dict[user])\n",
    "                    #print(\"-\")\n",
    "                    if (\n",
    "                        float(self.user_score_dict[user][i]) > 0.0\n",
    "                        and float(self.user_score_dict[user][j]) > 0.0\n",
    "                        and i != j\n",
    "                    ):\n",
    "                        count[i][j] += 1\n",
    "        # 共现矩阵 -> 相似度矩阵\n",
    "        for i, related_items in count.items():\n",
    "            itemSim.setdefault(i, {})\n",
    "            for j, cuv in related_items.items():\n",
    "                itemSim[i].setdefault(j, 0)\n",
    "                itemSim[i][j] = cuv / math.sqrt(item_user_count[i] * item_user_count[j])\n",
    "        return itemSim\n",
    "\n",
    "    # 预测用户对item的评分\n",
    "    def preUserItemScore(self, userA, item):\n",
    "        score = 0.0\n",
    "        #print(self.items_sim[item])\n",
    "        for item1 in self.items_sim[item].keys():\n",
    "            try:\n",
    "                if item1 != item:\n",
    "                    score += (\n",
    "                    self.items_sim[item][item1] * float(self.user_score_dict[userA][item])\n",
    "                    )\n",
    "            \n",
    "            except Exception as e:\n",
    "                \n",
    "                continue            \n",
    "        return score\n",
    "\n",
    "    # 为用户推荐物品\n",
    "    def recommend(self, userA):\n",
    "        # 计算userA 未评分item的可能评分\n",
    "        user_item_score_dict = {}\n",
    "        for item in self.user_score_dict[userA].keys():\n",
    "            # if self.user_score_dict[userA][item] <= 0:\n",
    "            user_item_score_dict[item] = self.preUserItemScore(userA, item)\n",
    "        return user_item_score_dict"
   ]
  },
  {
   "cell_type": "code",
   "execution_count": null,
   "metadata": {},
   "outputs": [],
   "source": [
    "ib = ItemCF()\n",
    "    "
   ]
  },
  {
   "cell_type": "code",
   "execution_count": null,
   "metadata": {},
   "outputs": [],
   "source": []
  },
  {
   "cell_type": "code",
   "execution_count": null,
   "metadata": {},
   "outputs": [],
   "source": []
  },
  {
   "cell_type": "code",
   "execution_count": null,
   "metadata": {},
   "outputs": [],
   "source": []
  },
  {
   "cell_type": "code",
   "execution_count": null,
   "metadata": {},
   "outputs": [],
   "source": []
  },
  {
   "cell_type": "code",
   "execution_count": null,
   "metadata": {},
   "outputs": [],
   "source": []
  },
  {
   "cell_type": "code",
   "execution_count": null,
   "metadata": {},
   "outputs": [],
   "source": []
  },
  {
   "cell_type": "code",
   "execution_count": null,
   "metadata": {},
   "outputs": [],
   "source": []
  },
  {
   "cell_type": "code",
   "execution_count": null,
   "metadata": {},
   "outputs": [],
   "source": []
  },
  {
   "cell_type": "code",
   "execution_count": null,
   "metadata": {},
   "outputs": [],
   "source": []
  },
  {
   "cell_type": "code",
   "execution_count": null,
   "metadata": {},
   "outputs": [],
   "source": []
  },
  {
   "cell_type": "code",
   "execution_count": null,
   "metadata": {},
   "outputs": [],
   "source": []
  }
 ],
 "metadata": {
  "kernelspec": {
   "display_name": "Python 3",
   "language": "python",
   "name": "python3"
  },
  "language_info": {
   "codemirror_mode": {
    "name": "ipython",
    "version": 3
   },
   "file_extension": ".py",
   "mimetype": "text/x-python",
   "name": "python",
   "nbconvert_exporter": "python",
   "pygments_lexer": "ipython3",
   "version": "3.7.1"
  },
  "toc": {
   "base_numbering": 1,
   "nav_menu": {},
   "number_sections": true,
   "sideBar": true,
   "skip_h1_title": false,
   "title_cell": "Table of Contents",
   "title_sidebar": "Contents",
   "toc_cell": false,
   "toc_position": {},
   "toc_section_display": true,
   "toc_window_display": false
  },
  "varInspector": {
   "cols": {
    "lenName": 16,
    "lenType": 16,
    "lenVar": 40
   },
   "kernels_config": {
    "python": {
     "delete_cmd_postfix": "",
     "delete_cmd_prefix": "del ",
     "library": "var_list.py",
     "varRefreshCmd": "print(var_dic_list())"
    },
    "r": {
     "delete_cmd_postfix": ") ",
     "delete_cmd_prefix": "rm(",
     "library": "var_list.r",
     "varRefreshCmd": "cat(var_dic_list()) "
    }
   },
   "types_to_exclude": [
    "module",
    "function",
    "builtin_function_or_method",
    "instance",
    "_Feature"
   ],
   "window_display": false
  }
 },
 "nbformat": 4,
 "nbformat_minor": 2
}
